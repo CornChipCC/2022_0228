{
 "cells": [
  {
   "cell_type": "markdown",
   "metadata": {
    "id": "y1J78TFSRrSA"
   },
   "source": [
    "<center><img src='https://raw.githubusercontent.com/Jangrae/img/master/ml_python.png' width=600/></center>"
   ]
  },
  {
   "cell_type": "markdown",
   "metadata": {
    "id": "TSPbV_6rfe4O"
   },
   "source": [
    "# 실습 내용\n",
    "\n",
    "- 우선 머신러닝 모델링을 위한 코딩을 할 수 있어야 합니다.\n",
    "- 코딩 내용을 자세히 알지 못해도 무작정 코딩을 진행해봅니다.\n",
    "- Iris 데이터를 대상으로 모델링를 진행합니다.\n",
    "- DecisionTree 알고리즘을 사용합니다."
   ]
  },
  {
   "cell_type": "markdown",
   "metadata": {
    "id": "nucoGLlcnihS"
   },
   "source": [
    "# 1.환경 준비\n",
    "\n",
    "- 기본 **라이브러리**와 대상 **데이터**를 가져와 이후 과정을 준비합니다."
   ]
  },
  {
   "cell_type": "markdown",
   "metadata": {
    "id": "RLz_NZuSnihT"
   },
   "source": [
    "<img src = \"https://github.com/Jangrae/img/blob/master/code_11.png?raw=true\" width=700 align=\"left\"/>"
   ]
  },
  {
   "cell_type": "code",
   "execution_count": 1,
   "metadata": {
    "executionInfo": {
     "elapsed": 236,
     "status": "ok",
     "timestamp": 1642504731803,
     "user": {
      "displayName": "Jangrae Lee",
      "photoUrl": "https://lh3.googleusercontent.com/a-/AOh14Gh1Pd8OuWJU2cv7uTt-fURrgvty7atx_Wtarmx0-A=s64",
      "userId": "08475661575434032088"
     },
     "user_tz": -540
    },
    "id": "q1Thk2BinihU",
    "scrolled": true
   },
   "outputs": [],
   "source": [
    "# 라이브러리 불러오기\n",
    "import numpy as np\n",
    "import pandas as pd\n",
    "import matplotlib.pyplot as plt\n",
    "import seaborn as sns\n",
    "\n",
    "%config InlineBackend.figure_format = 'retina'"
   ]
  },
  {
   "cell_type": "code",
   "execution_count": 2,
   "metadata": {
    "executionInfo": {
     "elapsed": 6,
     "status": "ok",
     "timestamp": 1642504732057,
     "user": {
      "displayName": "Jangrae Lee",
      "photoUrl": "https://lh3.googleusercontent.com/a-/AOh14Gh1Pd8OuWJU2cv7uTt-fURrgvty7atx_Wtarmx0-A=s64",
      "userId": "08475661575434032088"
     },
     "user_tz": -540
    },
    "id": "eZjHHq36nihW"
   },
   "outputs": [],
   "source": [
    "# 데이터 읽어오기\n",
    "path = 'https://raw.githubusercontent.com/Jangrae/csv/master/iris.csv'\n",
    "data = pd.read_csv(path)"
   ]
  },
  {
   "cell_type": "markdown",
   "metadata": {
    "id": "lyKibPz_nihX"
   },
   "source": [
    "# 2.데이터 이해\n",
    "\n",
    "- 분석할 데이터를 **충분히 이해**할 수 있도록 다양한 **탐색** 과정을 수행합니다."
   ]
  },
  {
   "cell_type": "markdown",
   "metadata": {
    "id": "QC4ccBS4nihX"
   },
   "source": [
    "<img src = \"https://github.com/Jangrae/img/blob/master/code_12.png?raw=true\" width=700 align=\"left\"/>"
   ]
  },
  {
   "cell_type": "code",
   "execution_count": 3,
   "metadata": {
    "colab": {
     "base_uri": "https://localhost:8080/",
     "height": 206
    },
    "executionInfo": {
     "elapsed": 363,
     "status": "ok",
     "timestamp": 1642504732416,
     "user": {
      "displayName": "Jangrae Lee",
      "photoUrl": "https://lh3.googleusercontent.com/a-/AOh14Gh1Pd8OuWJU2cv7uTt-fURrgvty7atx_Wtarmx0-A=s64",
      "userId": "08475661575434032088"
     },
     "user_tz": -540
    },
    "id": "K2pz6Ee7nCQV",
    "outputId": "4fa11c1d-8924-4dc6-9e1d-b3d52fcd15d5"
   },
   "outputs": [
    {
     "data": {
      "text/html": [
       "<div>\n",
       "<style scoped>\n",
       "    .dataframe tbody tr th:only-of-type {\n",
       "        vertical-align: middle;\n",
       "    }\n",
       "\n",
       "    .dataframe tbody tr th {\n",
       "        vertical-align: top;\n",
       "    }\n",
       "\n",
       "    .dataframe thead th {\n",
       "        text-align: right;\n",
       "    }\n",
       "</style>\n",
       "<table border=\"1\" class=\"dataframe\">\n",
       "  <thead>\n",
       "    <tr style=\"text-align: right;\">\n",
       "      <th></th>\n",
       "      <th>Sepal.Length</th>\n",
       "      <th>Sepal.Width</th>\n",
       "      <th>Petal.Length</th>\n",
       "      <th>Petal.Width</th>\n",
       "      <th>Species</th>\n",
       "    </tr>\n",
       "  </thead>\n",
       "  <tbody>\n",
       "    <tr>\n",
       "      <th>0</th>\n",
       "      <td>5.1</td>\n",
       "      <td>3.5</td>\n",
       "      <td>1.4</td>\n",
       "      <td>0.2</td>\n",
       "      <td>setosa</td>\n",
       "    </tr>\n",
       "    <tr>\n",
       "      <th>1</th>\n",
       "      <td>4.9</td>\n",
       "      <td>3.0</td>\n",
       "      <td>1.4</td>\n",
       "      <td>0.2</td>\n",
       "      <td>setosa</td>\n",
       "    </tr>\n",
       "    <tr>\n",
       "      <th>2</th>\n",
       "      <td>4.7</td>\n",
       "      <td>3.2</td>\n",
       "      <td>1.3</td>\n",
       "      <td>0.2</td>\n",
       "      <td>setosa</td>\n",
       "    </tr>\n",
       "    <tr>\n",
       "      <th>3</th>\n",
       "      <td>4.6</td>\n",
       "      <td>3.1</td>\n",
       "      <td>1.5</td>\n",
       "      <td>0.2</td>\n",
       "      <td>setosa</td>\n",
       "    </tr>\n",
       "    <tr>\n",
       "      <th>4</th>\n",
       "      <td>5.0</td>\n",
       "      <td>3.6</td>\n",
       "      <td>1.4</td>\n",
       "      <td>0.2</td>\n",
       "      <td>setosa</td>\n",
       "    </tr>\n",
       "  </tbody>\n",
       "</table>\n",
       "</div>"
      ],
      "text/plain": [
       "   Sepal.Length  Sepal.Width  Petal.Length  Petal.Width Species\n",
       "0           5.1          3.5           1.4          0.2  setosa\n",
       "1           4.9          3.0           1.4          0.2  setosa\n",
       "2           4.7          3.2           1.3          0.2  setosa\n",
       "3           4.6          3.1           1.5          0.2  setosa\n",
       "4           5.0          3.6           1.4          0.2  setosa"
      ]
     },
     "execution_count": 3,
     "metadata": {},
     "output_type": "execute_result"
    }
   ],
   "source": [
    "# 상위 몇 개 행 확인\n",
    "data.head()"
   ]
  },
  {
   "cell_type": "markdown",
   "metadata": {},
   "source": [
    "![](data:image/jpeg;base64,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)"
   ]
  },
  {
   "cell_type": "code",
   "execution_count": 4,
   "metadata": {
    "colab": {
     "base_uri": "https://localhost:8080/",
     "height": 206
    },
    "executionInfo": {
     "elapsed": 8,
     "status": "ok",
     "timestamp": 1642504732417,
     "user": {
      "displayName": "Jangrae Lee",
      "photoUrl": "https://lh3.googleusercontent.com/a-/AOh14Gh1Pd8OuWJU2cv7uTt-fURrgvty7atx_Wtarmx0-A=s64",
      "userId": "08475661575434032088"
     },
     "user_tz": -540
    },
    "id": "oBwMnDkFmJCS",
    "outputId": "baa163d2-b76c-47f5-d270-055052e10f82"
   },
   "outputs": [
    {
     "data": {
      "text/html": [
       "<div>\n",
       "<style scoped>\n",
       "    .dataframe tbody tr th:only-of-type {\n",
       "        vertical-align: middle;\n",
       "    }\n",
       "\n",
       "    .dataframe tbody tr th {\n",
       "        vertical-align: top;\n",
       "    }\n",
       "\n",
       "    .dataframe thead th {\n",
       "        text-align: right;\n",
       "    }\n",
       "</style>\n",
       "<table border=\"1\" class=\"dataframe\">\n",
       "  <thead>\n",
       "    <tr style=\"text-align: right;\">\n",
       "      <th></th>\n",
       "      <th>Sepal.Length</th>\n",
       "      <th>Sepal.Width</th>\n",
       "      <th>Petal.Length</th>\n",
       "      <th>Petal.Width</th>\n",
       "      <th>Species</th>\n",
       "    </tr>\n",
       "  </thead>\n",
       "  <tbody>\n",
       "    <tr>\n",
       "      <th>145</th>\n",
       "      <td>6.7</td>\n",
       "      <td>3.0</td>\n",
       "      <td>5.2</td>\n",
       "      <td>2.3</td>\n",
       "      <td>virginica</td>\n",
       "    </tr>\n",
       "    <tr>\n",
       "      <th>146</th>\n",
       "      <td>6.3</td>\n",
       "      <td>2.5</td>\n",
       "      <td>5.0</td>\n",
       "      <td>1.9</td>\n",
       "      <td>virginica</td>\n",
       "    </tr>\n",
       "    <tr>\n",
       "      <th>147</th>\n",
       "      <td>6.5</td>\n",
       "      <td>3.0</td>\n",
       "      <td>5.2</td>\n",
       "      <td>2.0</td>\n",
       "      <td>virginica</td>\n",
       "    </tr>\n",
       "    <tr>\n",
       "      <th>148</th>\n",
       "      <td>6.2</td>\n",
       "      <td>3.4</td>\n",
       "      <td>5.4</td>\n",
       "      <td>2.3</td>\n",
       "      <td>virginica</td>\n",
       "    </tr>\n",
       "    <tr>\n",
       "      <th>149</th>\n",
       "      <td>5.9</td>\n",
       "      <td>3.0</td>\n",
       "      <td>5.1</td>\n",
       "      <td>1.8</td>\n",
       "      <td>virginica</td>\n",
       "    </tr>\n",
       "  </tbody>\n",
       "</table>\n",
       "</div>"
      ],
      "text/plain": [
       "     Sepal.Length  Sepal.Width  Petal.Length  Petal.Width    Species\n",
       "145           6.7          3.0           5.2          2.3  virginica\n",
       "146           6.3          2.5           5.0          1.9  virginica\n",
       "147           6.5          3.0           5.2          2.0  virginica\n",
       "148           6.2          3.4           5.4          2.3  virginica\n",
       "149           5.9          3.0           5.1          1.8  virginica"
      ]
     },
     "execution_count": 4,
     "metadata": {},
     "output_type": "execute_result"
    }
   ],
   "source": [
    "# 하위 몇 개 행 확인\n",
    "data.tail()"
   ]
  },
  {
   "cell_type": "code",
   "execution_count": 5,
   "metadata": {
    "colab": {
     "base_uri": "https://localhost:8080/"
    },
    "executionInfo": {
     "elapsed": 7,
     "status": "ok",
     "timestamp": 1642504732417,
     "user": {
      "displayName": "Jangrae Lee",
      "photoUrl": "https://lh3.googleusercontent.com/a-/AOh14Gh1Pd8OuWJU2cv7uTt-fURrgvty7atx_Wtarmx0-A=s64",
      "userId": "08475661575434032088"
     },
     "user_tz": -540
    },
    "id": "1ZsXdcfp8uwI",
    "outputId": "3cd7feca-a233-4fe9-8db4-703aff9c90eb"
   },
   "outputs": [
    {
     "name": "stdout",
     "output_type": "stream",
     "text": [
      "<class 'pandas.core.frame.DataFrame'>\n",
      "RangeIndex: 150 entries, 0 to 149\n",
      "Data columns (total 5 columns):\n",
      " #   Column        Non-Null Count  Dtype  \n",
      "---  ------        --------------  -----  \n",
      " 0   Sepal.Length  150 non-null    float64\n",
      " 1   Sepal.Width   150 non-null    float64\n",
      " 2   Petal.Length  150 non-null    float64\n",
      " 3   Petal.Width   150 non-null    float64\n",
      " 4   Species       150 non-null    object \n",
      "dtypes: float64(4), object(1)\n",
      "memory usage: 6.0+ KB\n"
     ]
    }
   ],
   "source": [
    "# 변수 확인\n",
    "data.info()"
   ]
  },
  {
   "cell_type": "code",
   "execution_count": 6,
   "metadata": {
    "colab": {
     "base_uri": "https://localhost:8080/",
     "height": 300
    },
    "executionInfo": {
     "elapsed": 6,
     "status": "ok",
     "timestamp": 1642504732417,
     "user": {
      "displayName": "Jangrae Lee",
      "photoUrl": "https://lh3.googleusercontent.com/a-/AOh14Gh1Pd8OuWJU2cv7uTt-fURrgvty7atx_Wtarmx0-A=s64",
      "userId": "08475661575434032088"
     },
     "user_tz": -540
    },
    "id": "LhAk04Uy4Occ",
    "outputId": "08b066bd-517b-4d56-dbf1-0d0a693176c9"
   },
   "outputs": [
    {
     "data": {
      "text/html": [
       "<div>\n",
       "<style scoped>\n",
       "    .dataframe tbody tr th:only-of-type {\n",
       "        vertical-align: middle;\n",
       "    }\n",
       "\n",
       "    .dataframe tbody tr th {\n",
       "        vertical-align: top;\n",
       "    }\n",
       "\n",
       "    .dataframe thead th {\n",
       "        text-align: right;\n",
       "    }\n",
       "</style>\n",
       "<table border=\"1\" class=\"dataframe\">\n",
       "  <thead>\n",
       "    <tr style=\"text-align: right;\">\n",
       "      <th></th>\n",
       "      <th>Sepal.Length</th>\n",
       "      <th>Sepal.Width</th>\n",
       "      <th>Petal.Length</th>\n",
       "      <th>Petal.Width</th>\n",
       "    </tr>\n",
       "  </thead>\n",
       "  <tbody>\n",
       "    <tr>\n",
       "      <th>count</th>\n",
       "      <td>150.000000</td>\n",
       "      <td>150.000000</td>\n",
       "      <td>150.000000</td>\n",
       "      <td>150.000000</td>\n",
       "    </tr>\n",
       "    <tr>\n",
       "      <th>mean</th>\n",
       "      <td>5.843333</td>\n",
       "      <td>3.057333</td>\n",
       "      <td>3.758000</td>\n",
       "      <td>1.199333</td>\n",
       "    </tr>\n",
       "    <tr>\n",
       "      <th>std</th>\n",
       "      <td>0.828066</td>\n",
       "      <td>0.435866</td>\n",
       "      <td>1.765298</td>\n",
       "      <td>0.762238</td>\n",
       "    </tr>\n",
       "    <tr>\n",
       "      <th>min</th>\n",
       "      <td>4.300000</td>\n",
       "      <td>2.000000</td>\n",
       "      <td>1.000000</td>\n",
       "      <td>0.100000</td>\n",
       "    </tr>\n",
       "    <tr>\n",
       "      <th>25%</th>\n",
       "      <td>5.100000</td>\n",
       "      <td>2.800000</td>\n",
       "      <td>1.600000</td>\n",
       "      <td>0.300000</td>\n",
       "    </tr>\n",
       "    <tr>\n",
       "      <th>50%</th>\n",
       "      <td>5.800000</td>\n",
       "      <td>3.000000</td>\n",
       "      <td>4.350000</td>\n",
       "      <td>1.300000</td>\n",
       "    </tr>\n",
       "    <tr>\n",
       "      <th>75%</th>\n",
       "      <td>6.400000</td>\n",
       "      <td>3.300000</td>\n",
       "      <td>5.100000</td>\n",
       "      <td>1.800000</td>\n",
       "    </tr>\n",
       "    <tr>\n",
       "      <th>max</th>\n",
       "      <td>7.900000</td>\n",
       "      <td>4.400000</td>\n",
       "      <td>6.900000</td>\n",
       "      <td>2.500000</td>\n",
       "    </tr>\n",
       "  </tbody>\n",
       "</table>\n",
       "</div>"
      ],
      "text/plain": [
       "       Sepal.Length  Sepal.Width  Petal.Length  Petal.Width\n",
       "count    150.000000   150.000000    150.000000   150.000000\n",
       "mean       5.843333     3.057333      3.758000     1.199333\n",
       "std        0.828066     0.435866      1.765298     0.762238\n",
       "min        4.300000     2.000000      1.000000     0.100000\n",
       "25%        5.100000     2.800000      1.600000     0.300000\n",
       "50%        5.800000     3.000000      4.350000     1.300000\n",
       "75%        6.400000     3.300000      5.100000     1.800000\n",
       "max        7.900000     4.400000      6.900000     2.500000"
      ]
     },
     "execution_count": 6,
     "metadata": {},
     "output_type": "execute_result"
    }
   ],
   "source": [
    "# 기초통계량 확인\n",
    "data.describe()"
   ]
  },
  {
   "cell_type": "code",
   "execution_count": 17,
   "metadata": {
    "colab": {
     "base_uri": "https://localhost:8080/",
     "height": 333
    },
    "executionInfo": {
     "elapsed": 294,
     "status": "ok",
     "timestamp": 1642504732706,
     "user": {
      "displayName": "Jangrae Lee",
      "photoUrl": "https://lh3.googleusercontent.com/a-/AOh14Gh1Pd8OuWJU2cv7uTt-fURrgvty7atx_Wtarmx0-A=s64",
      "userId": "08475661575434032088"
     },
     "user_tz": -540
    },
    "id": "SvCOtiO453po",
    "outputId": "7ed241a2-b7e5-482c-c812-c986e6649d97"
   },
   "outputs": [
    {
     "data": {
      "image/png": "[encoded data removed]",
      "text/plain": [
       "<Figure size 432x288 with 1 Axes>"
      ]
     },
     "metadata": {
      "image/png": {
       "height": 261,
       "width": 382
      },
      "needs_background": "light"
     },
     "output_type": "display_data"
    }
   ],
   "source": [
    "# Target 변수 값 분포 확인\n",
    "sns.countplot(x = data['Species'])\n",
    "plt.show()\n"
   ]
  },
  {
   "cell_type": "code",
   "execution_count": 18,
   "metadata": {
    "colab": {
     "base_uri": "https://localhost:8080/",
     "height": 174
    },
    "executionInfo": {
     "elapsed": 10,
     "status": "ok",
     "timestamp": 1642504732707,
     "user": {
      "displayName": "Jangrae Lee",
      "photoUrl": "https://lh3.googleusercontent.com/a-/AOh14Gh1Pd8OuWJU2cv7uTt-fURrgvty7atx_Wtarmx0-A=s64",
      "userId": "08475661575434032088"
     },
     "user_tz": -540
    },
    "id": "K09lnS9i4itn",
    "outputId": "9b272a2a-9278-4c34-f228-379c369c1818"
   },
   "outputs": [
    {
     "data": {
      "text/html": [
       "<div>\n",
       "<style scoped>\n",
       "    .dataframe tbody tr th:only-of-type {\n",
       "        vertical-align: middle;\n",
       "    }\n",
       "\n",
       "    .dataframe tbody tr th {\n",
       "        vertical-align: top;\n",
       "    }\n",
       "\n",
       "    .dataframe thead th {\n",
       "        text-align: right;\n",
       "    }\n",
       "</style>\n",
       "<table border=\"1\" class=\"dataframe\">\n",
       "  <thead>\n",
       "    <tr style=\"text-align: right;\">\n",
       "      <th></th>\n",
       "      <th>Sepal.Length</th>\n",
       "      <th>Sepal.Width</th>\n",
       "      <th>Petal.Length</th>\n",
       "      <th>Petal.Width</th>\n",
       "    </tr>\n",
       "  </thead>\n",
       "  <tbody>\n",
       "    <tr>\n",
       "      <th>Sepal.Length</th>\n",
       "      <td>1.000000</td>\n",
       "      <td>-0.117570</td>\n",
       "      <td>0.871754</td>\n",
       "      <td>0.817941</td>\n",
       "    </tr>\n",
       "    <tr>\n",
       "      <th>Sepal.Width</th>\n",
       "      <td>-0.117570</td>\n",
       "      <td>1.000000</td>\n",
       "      <td>-0.428440</td>\n",
       "      <td>-0.366126</td>\n",
       "    </tr>\n",
       "    <tr>\n",
       "      <th>Petal.Length</th>\n",
       "      <td>0.871754</td>\n",
       "      <td>-0.428440</td>\n",
       "      <td>1.000000</td>\n",
       "      <td>0.962865</td>\n",
       "    </tr>\n",
       "    <tr>\n",
       "      <th>Petal.Width</th>\n",
       "      <td>0.817941</td>\n",
       "      <td>-0.366126</td>\n",
       "      <td>0.962865</td>\n",
       "      <td>1.000000</td>\n",
       "    </tr>\n",
       "  </tbody>\n",
       "</table>\n",
       "</div>"
      ],
      "text/plain": [
       "              Sepal.Length  Sepal.Width  Petal.Length  Petal.Width\n",
       "Sepal.Length      1.000000    -0.117570      0.871754     0.817941\n",
       "Sepal.Width      -0.117570     1.000000     -0.428440    -0.366126\n",
       "Petal.Length      0.871754    -0.428440      1.000000     0.962865\n",
       "Petal.Width       0.817941    -0.366126      0.962865     1.000000"
      ]
     },
     "execution_count": 18,
     "metadata": {},
     "output_type": "execute_result"
    }
   ],
   "source": [
    "# 상관관계 확인\n",
    "data.corr()"
   ]
  },
  {
   "cell_type": "code",
   "execution_count": 20,
   "metadata": {
    "colab": {
     "base_uri": "https://localhost:8080/",
     "height": 377
    },
    "executionInfo": {
     "elapsed": 848,
     "status": "ok",
     "timestamp": 1642504733546,
     "user": {
      "displayName": "Jangrae Lee",
      "photoUrl": "https://lh3.googleusercontent.com/a-/AOh14Gh1Pd8OuWJU2cv7uTt-fURrgvty7atx_Wtarmx0-A=s64",
      "userId": "08475661575434032088"
     },
     "user_tz": -540
    },
    "id": "VLR2YozH4t3G",
    "outputId": "af270e8e-0063-4ae7-92d6-0064b3166d4f"
   },
   "outputs": [
    {
     "data": {
      "image/png": "[encoded data removed]",
      "text/plain": [
       "<Figure size 576x432 with 2 Axes>"
      ]
     },
     "metadata": {
      "image/png": {
       "height": 360,
       "width": 457
      },
      "needs_background": "light"
     },
     "output_type": "display_data"
    }
   ],
   "source": [
    "# 상관관계 시각화\n",
    "plt.figure(figsize = (8,6))\n",
    "sns.heatmap(data.corr(), annot=True, cmap='Blues')\n",
    "plt.show()"
   ]
  },
  {
   "cell_type": "markdown",
   "metadata": {
    "id": "nVHWkAZYnihh"
   },
   "source": [
    "# 3.데이터 준비\n",
    "\n",
    "- **전처리** 과정을 통해 머신러닝 알고리즘에 사용할 수 있는 형태의 데이터를 준비합니다."
   ]
  },
  {
   "cell_type": "markdown",
   "metadata": {
    "id": "S5jfWSRxnihi"
   },
   "source": [
    "<img src = \"https://github.com/Jangrae/img/blob/master/code_13.png?raw=true\" width=700 align=\"left\"/>"
   ]
  },
  {
   "cell_type": "markdown",
   "metadata": {
    "id": "ib5r86cA5Pvv"
   },
   "source": [
    "**1) x, y 분리**"
   ]
  },
  {
   "cell_type": "code",
   "execution_count": 7,
   "metadata": {
    "executionInfo": {
     "elapsed": 10,
     "status": "ok",
     "timestamp": 1642504734705,
     "user": {
      "displayName": "Jangrae Lee",
      "photoUrl": "https://lh3.googleusercontent.com/a-/AOh14Gh1Pd8OuWJU2cv7uTt-fURrgvty7atx_Wtarmx0-A=s64",
      "userId": "08475661575434032088"
     },
     "user_tz": -540
    },
    "id": "WkNuISa8nihj"
   },
   "outputs": [],
   "source": [
    "# target 확인\n",
    "target = 'Species'\n",
    "\n",
    "# 데이터 분리\n",
    "\n",
    "x = data.drop(target, axis = 1)\n",
    "y = data[target]"
   ]
  },
  {
   "cell_type": "markdown",
   "metadata": {
    "id": "rupmQHmn5bgA"
   },
   "source": [
    "**2) 학습용, 평가용 데이터 분리**"
   ]
  },
  {
   "cell_type": "code",
   "execution_count": 8,
   "metadata": {
    "executionInfo": {
     "elapsed": 11,
     "status": "ok",
     "timestamp": 1642504734707,
     "user": {
      "displayName": "Jangrae Lee",
      "photoUrl": "https://lh3.googleusercontent.com/a-/AOh14Gh1Pd8OuWJU2cv7uTt-fURrgvty7atx_Wtarmx0-A=s64",
      "userId": "08475661575434032088"
     },
     "user_tz": -540
    },
    "id": "N3JlTSiqnihm"
   },
   "outputs": [],
   "source": [
    "# 모듈 불러오기\n",
    "from sklearn.model_selection import train_test_split\n",
    "\n",
    "# 7:3으로 분리\n",
    "x_train, x_test, y_train, y_test = train_test_split(x, y, test_size = 0.3 , random_state=2022)"
   ]
  },
  {
   "cell_type": "markdown",
   "metadata": {
    "id": "OzEPVOzunihm"
   },
   "source": [
    "# 4.모델링\n",
    "\n",
    "- 본격적으로 모델을 **선언**하고 **학습**하고 **평가**하는 과정을 진행합니다.\n",
    "- 우선 **회귀** 문제인지 **분류** 문제인지 명확히 구분합니다."
   ]
  },
  {
   "cell_type": "markdown",
   "metadata": {
    "id": "a-sbFHylnihn"
   },
   "source": [
    "<img src = \"https://github.com/Jangrae/img/blob/master/code_14.png?raw=true\" width=700 align=\"left\"/>"
   ]
  },
  {
   "cell_type": "markdown",
   "metadata": {
    "id": "tKe36TgHPfHP"
   },
   "source": [
    "- 품종 예측 → **<font color='red'>분류 문제</font>**\n",
    "- 알고리즘: DecisionTreeClassifier\n",
    "- 평가지표: accuracy_score"
   ]
  },
  {
   "cell_type": "code",
   "execution_count": 31,
   "metadata": {
    "executionInfo": {
     "elapsed": 251,
     "status": "ok",
     "timestamp": 1642504778354,
     "user": {
      "displayName": "Jangrae Lee",
      "photoUrl": "https://lh3.googleusercontent.com/a-/AOh14Gh1Pd8OuWJU2cv7uTt-fURrgvty7atx_Wtarmx0-A=s64",
      "userId": "08475661575434032088"
     },
     "user_tz": -540
    },
    "id": "soGPsL-3nihn"
   },
   "outputs": [],
   "source": [
    "# 1단계: 불러오기\n",
    "from sklearn.tree import DecisionTreeClassifier\n",
    "from sklearn.metrics import accuracy_score"
   ]
  },
  {
   "cell_type": "code",
   "execution_count": 32,
   "metadata": {
    "executionInfo": {
     "elapsed": 11,
     "status": "ok",
     "timestamp": 1642504734708,
     "user": {
      "displayName": "Jangrae Lee",
      "photoUrl": "https://lh3.googleusercontent.com/a-/AOh14Gh1Pd8OuWJU2cv7uTt-fURrgvty7atx_Wtarmx0-A=s64",
      "userId": "08475661575434032088"
     },
     "user_tz": -540
    },
    "id": "pQsDK7ebniho"
   },
   "outputs": [],
   "source": [
    "# 2단계: 선언하기\n",
    "model = DecisionTreeClassifier(random_state=2022)"
   ]
  },
  {
   "cell_type": "code",
   "execution_count": 33,
   "metadata": {
    "colab": {
     "base_uri": "https://localhost:8080/"
    },
    "executionInfo": {
     "elapsed": 11,
     "status": "ok",
     "timestamp": 1642504734708,
     "user": {
      "displayName": "Jangrae Lee",
      "photoUrl": "https://lh3.googleusercontent.com/a-/AOh14Gh1Pd8OuWJU2cv7uTt-fURrgvty7atx_Wtarmx0-A=s64",
      "userId": "08475661575434032088"
     },
     "user_tz": -540
    },
    "id": "SuKiWRacnihp",
    "outputId": "4c6501a0-c0a8-44c6-a4f8-0e81d1c45ff9"
   },
   "outputs": [
    {
     "data": {
      "text/plain": [
       "DecisionTreeClassifier(random_state=2022)"
      ]
     },
     "execution_count": 33,
     "metadata": {},
     "output_type": "execute_result"
    }
   ],
   "source": [
    "# 3단계: 학습하기\n",
    "model.fit(x_train, y_train)"
   ]
  },
  {
   "cell_type": "code",
   "execution_count": 34,
   "metadata": {
    "executionInfo": {
     "elapsed": 10,
     "status": "ok",
     "timestamp": 1642504734709,
     "user": {
      "displayName": "Jangrae Lee",
      "photoUrl": "https://lh3.googleusercontent.com/a-/AOh14Gh1Pd8OuWJU2cv7uTt-fURrgvty7atx_Wtarmx0-A=s64",
      "userId": "08475661575434032088"
     },
     "user_tz": -540
    },
    "id": "CpJXNVBLnihq"
   },
   "outputs": [],
   "source": [
    "# 4단계: 예측하기\n",
    "y_pred = model.predict(x_test)"
   ]
  },
  {
   "cell_type": "code",
   "execution_count": 35,
   "metadata": {
    "colab": {
     "base_uri": "https://localhost:8080/"
    },
    "executionInfo": {
     "elapsed": 245,
     "status": "ok",
     "timestamp": 1642504781025,
     "user": {
      "displayName": "Jangrae Lee",
      "photoUrl": "https://lh3.googleusercontent.com/a-/AOh14Gh1Pd8OuWJU2cv7uTt-fURrgvty7atx_Wtarmx0-A=s64",
      "userId": "08475661575434032088"
     },
     "user_tz": -540
    },
    "id": "10g_M3vinihq",
    "outputId": "fc469000-1e3f-4859-8ae5-a81d4dbbdaad"
   },
   "outputs": [
    {
     "data": {
      "text/plain": [
       "0.9333333333333333"
      ]
     },
     "execution_count": 35,
     "metadata": {},
     "output_type": "execute_result"
    }
   ],
   "source": [
    "# 5단계 평가하기\n",
    "accuracy_score(y_test, y_pred)"
   ]
  },
  {
   "cell_type": "code",
   "execution_count": 30,
   "metadata": {},
   "outputs": [
    {
     "data": {
      "image/png": "[encoded data removed]",
      "text/plain": [
       "<Figure size 432x288 with 1 Axes>"
      ]
     },
     "metadata": {
      "image/png": {
       "height": 261,
       "width": 377
      },
      "needs_background": "light"
     },
     "output_type": "display_data"
    }
   ],
   "source": [
    "sns.scatterplot(x = x_test['Sepal.Length'], y= x_test['Petal.Length'], hue = y_test)\n",
    "plt.show()"
   ]
  },
  {
   "cell_type": "code",
   "execution_count": 28,
   "metadata": {},
   "outputs": [
    {
     "data": {
      "image/png": "[encoded data removed]",
      "text/plain": [
       "<Figure size 432x288 with 1 Axes>"
      ]
     },
     "metadata": {
      "image/png": {
       "height": 261,
       "width": 377
      },
      "needs_background": "light"
     },
     "output_type": "display_data"
    }
   ],
   "source": [
    "sns.scatterplot(x = x_test['Sepal.Length'], y= x_test['Petal.Length'], hue = y_pred)\n",
    "plt.show()"
   ]
  },
  {
   "cell_type": "code",
   "execution_count": null,
   "metadata": {},
   "outputs": [],
   "source": []
  }
 ],
 "metadata": {
  "colab": {
   "collapsed_sections": [],
   "name": "실습01_03_코딩연습(Iris).ipynb",
   "provenance": []
  },
  "kernelspec": {
   "display_name": "Python 3",
   "language": "python",
   "name": "python3"
  },
  "language_info": {
   "codemirror_mode": {
    "name": "ipython",
    "version": 3
   },
   "file_extension": ".py",
   "mimetype": "text/x-python",
   "name": "python",
   "nbconvert_exporter": "python",
   "pygments_lexer": "ipython3",
   "version": "3.8.8"
  }
 },
 "nbformat": 4,
 "nbformat_minor": 1
}
